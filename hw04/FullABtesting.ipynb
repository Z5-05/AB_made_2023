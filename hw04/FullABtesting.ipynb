{
 "cells": [
  {
   "cell_type": "code",
   "execution_count": 1,
   "id": "1e68c527-4432-4629-9c03-0a4d1f9896da",
   "metadata": {},
   "outputs": [],
   "source": [
    "import numpy as np\n",
    "import pandas as pd\n",
    "from datetime import date, timedelta\n",
    "import scipy.stats as sps\n",
    "import matplotlib.pyplot as plt\n",
    "import plotly.graph_objs as go"
   ]
  },
  {
   "cell_type": "markdown",
   "id": "a53636d9",
   "metadata": {},
   "source": [
    "### Constants:"
   ]
  },
  {
   "cell_type": "code",
   "execution_count": 2,
   "id": "3541e46d",
   "metadata": {},
   "outputs": [],
   "source": [
    "ALPHA = 0.05\n",
    "BETA = 0.2\n",
    "\n",
    "PRE_START = pd.to_datetime('2023-04-01', format='%Y-%m-%d')\n",
    "PRE_END = pd.to_datetime('2023-04-30', format='%Y-%m-%d')\n",
    "EXP_START = pd.to_datetime('2023-05-01', format='%Y-%m-%d')\n",
    "EXP_END = pd.to_datetime('2023-05-31', format='%Y-%m-%d')"
   ]
  },
  {
   "cell_type": "code",
   "execution_count": 3,
   "id": "ef5d3155",
   "metadata": {},
   "outputs": [
    {
     "data": {
      "text/plain": [
       "False"
      ]
     },
     "execution_count": 3,
     "metadata": {},
     "output_type": "execute_result"
    }
   ],
   "source": [
    "pd.to_datetime(1653285343, unit='s') <= pd.to_datetime('2022-05-23', format='%Y-%m-%d')"
   ]
  },
  {
   "cell_type": "markdown",
   "id": "8b0b4bc6",
   "metadata": {},
   "source": [
    "### Read file:"
   ]
  },
  {
   "cell_type": "code",
   "execution_count": 4,
   "id": "7835e729",
   "metadata": {},
   "outputs": [],
   "source": [
    "df = pd.read_csv(\"ab_made_4.gzip\", compression='gzip')\n",
    "df['timestamp'] = pd.to_datetime(df['timestamp'], unit='s') + timedelta(hours=3)\n",
    "df['date'] = pd.to_datetime(df['date'], format='%Y-%m-%d')"
   ]
  },
  {
   "cell_type": "code",
   "execution_count": 5,
   "id": "a3698fcd",
   "metadata": {},
   "outputs": [
    {
     "data": {
      "text/html": [
       "<div>\n",
       "<style scoped>\n",
       "    .dataframe tbody tr th:only-of-type {\n",
       "        vertical-align: middle;\n",
       "    }\n",
       "\n",
       "    .dataframe tbody tr th {\n",
       "        vertical-align: top;\n",
       "    }\n",
       "\n",
       "    .dataframe thead th {\n",
       "        text-align: right;\n",
       "    }\n",
       "</style>\n",
       "<table border=\"1\" class=\"dataframe\">\n",
       "  <thead>\n",
       "    <tr style=\"text-align: right;\">\n",
       "      <th></th>\n",
       "      <th>timestamp</th>\n",
       "      <th>id_user</th>\n",
       "      <th>sum_payment</th>\n",
       "      <th>group</th>\n",
       "      <th>city</th>\n",
       "      <th>id_product</th>\n",
       "      <th>is_pay</th>\n",
       "      <th>date</th>\n",
       "    </tr>\n",
       "  </thead>\n",
       "  <tbody>\n",
       "    <tr>\n",
       "      <th>32699</th>\n",
       "      <td>2023-05-19 23:06:55</td>\n",
       "      <td>user_564</td>\n",
       "      <td>0</td>\n",
       "      <td>A</td>\n",
       "      <td>Москва</td>\n",
       "      <td>19.0</td>\n",
       "      <td>0</td>\n",
       "      <td>2023-05-19</td>\n",
       "    </tr>\n",
       "    <tr>\n",
       "      <th>32725</th>\n",
       "      <td>2023-05-19 14:50:49</td>\n",
       "      <td>user_10368</td>\n",
       "      <td>0</td>\n",
       "      <td>A</td>\n",
       "      <td>Ярославь</td>\n",
       "      <td>2.0</td>\n",
       "      <td>0</td>\n",
       "      <td>2023-05-19</td>\n",
       "    </tr>\n",
       "    <tr>\n",
       "      <th>20836</th>\n",
       "      <td>2023-04-29 12:33:28</td>\n",
       "      <td>user_7782</td>\n",
       "      <td>12</td>\n",
       "      <td>NaN</td>\n",
       "      <td>Рязань</td>\n",
       "      <td>7.0</td>\n",
       "      <td>1</td>\n",
       "      <td>2023-04-29</td>\n",
       "    </tr>\n",
       "    <tr>\n",
       "      <th>21057</th>\n",
       "      <td>2023-04-29 01:23:54</td>\n",
       "      <td>user_973</td>\n",
       "      <td>0</td>\n",
       "      <td>NaN</td>\n",
       "      <td>Рязань</td>\n",
       "      <td>17.0</td>\n",
       "      <td>0</td>\n",
       "      <td>2023-04-29</td>\n",
       "    </tr>\n",
       "    <tr>\n",
       "      <th>7153</th>\n",
       "      <td>2023-04-20 06:53:16</td>\n",
       "      <td>user_8329</td>\n",
       "      <td>0</td>\n",
       "      <td>NaN</td>\n",
       "      <td>Тула</td>\n",
       "      <td>4.0</td>\n",
       "      <td>0</td>\n",
       "      <td>2023-04-20</td>\n",
       "    </tr>\n",
       "  </tbody>\n",
       "</table>\n",
       "</div>"
      ],
      "text/plain": [
       "                timestamp     id_user  sum_payment group      city  \\\n",
       "32699 2023-05-19 23:06:55    user_564            0     A    Москва   \n",
       "32725 2023-05-19 14:50:49  user_10368            0     A  Ярославь   \n",
       "20836 2023-04-29 12:33:28   user_7782           12   NaN    Рязань   \n",
       "21057 2023-04-29 01:23:54    user_973            0   NaN    Рязань   \n",
       "7153  2023-04-20 06:53:16   user_8329            0   NaN      Тула   \n",
       "\n",
       "       id_product  is_pay       date  \n",
       "32699        19.0       0 2023-05-19  \n",
       "32725         2.0       0 2023-05-19  \n",
       "20836         7.0       1 2023-04-29  \n",
       "21057        17.0       0 2023-04-29  \n",
       "7153          4.0       0 2023-04-20  "
      ]
     },
     "execution_count": 5,
     "metadata": {},
     "output_type": "execute_result"
    }
   ],
   "source": [
    "df.sample(5)"
   ]
  },
  {
   "cell_type": "code",
   "execution_count": 6,
   "id": "90946d38",
   "metadata": {},
   "outputs": [],
   "source": [
    "pre_group_df = df[df['group'].isna()]\n",
    "a_group_df = df[df['group'] == 'A']\n",
    "b_group_df = df[df['group'] == 'B']"
   ]
  },
  {
   "cell_type": "code",
   "execution_count": 7,
   "id": "9611f91d",
   "metadata": {},
   "outputs": [
    {
     "name": "stdout",
     "output_type": "stream",
     "text": [
      "Даты pre-периода лежат в промежутке с 2023-04-01 00:00:00 по 2023-04-30 00:00:00\n",
      "Даты A-группы лежат в промежутке с 2023-05-01 00:00:00 по 2023-05-31 00:00:00\n",
      "Даты B-группы лежат в промежутке с 2023-05-01 00:00:00 по 2023-05-31 00:00:00\n"
     ]
    }
   ],
   "source": [
    "print(\n",
    "    f\"Даты pre-периода лежат в промежутке с {pre_group_df['date'].min()} по {pre_group_df['date'].max()}\"\n",
    ")\n",
    "print(\n",
    "    f\"Даты A-группы лежат в промежутке с {a_group_df['date'].min()} по {a_group_df['date'].max()}\"\n",
    ")\n",
    "print(\n",
    "    f\"Даты B-группы лежат в промежутке с {b_group_df['date'].min()} по {b_group_df['date'].max()}\"\n",
    ")"
   ]
  },
  {
   "cell_type": "code",
   "execution_count": 8,
   "id": "68a1bbc0",
   "metadata": {},
   "outputs": [
    {
     "name": "stdout",
     "output_type": "stream",
     "text": [
      "Кол-во пользователей для pre-периода равно 10000\n",
      "Кол-во пользователей для A-группы равно 6000\n",
      "Кол-во пользователей для B-группы равно 6000\n"
     ]
    }
   ],
   "source": [
    "print(f\"Кол-во пользователей для pre-периода равно {pre_group_df['id_user'].nunique()}\")\n",
    "print(f\"Кол-во пользователей для A-группы равно {a_group_df['id_user'].nunique()}\")\n",
    "print(f\"Кол-во пользователей для B-группы равно {b_group_df['id_user'].nunique()}\")"
   ]
  },
  {
   "cell_type": "code",
   "execution_count": 9,
   "id": "43711488",
   "metadata": {},
   "outputs": [
    {
     "name": "stdout",
     "output_type": "stream",
     "text": [
      "Кол-во событий для pre-периода равно 25759\n",
      "Кол-во событий для A-группы равно 15389\n",
      "Кол-во событий для B-группы равно 15257\n"
     ]
    }
   ],
   "source": [
    "print(f\"Кол-во событий для pre-периода равно {pre_group_df['id_user'].count()}\")\n",
    "print(f\"Кол-во событий для A-группы равно {a_group_df['id_user'].count()}\")\n",
    "print(f\"Кол-во событий для B-группы равно {b_group_df['id_user'].count()}\")"
   ]
  },
  {
   "cell_type": "markdown",
   "id": "f1cb0fdd",
   "metadata": {},
   "source": [
    "### Посмотрим на выбросы и попробуем заменить их на значение выбранного верхнего перцентиля, то есть, грубо говоря, ограничить значение:"
   ]
  },
  {
   "cell_type": "code",
   "execution_count": 10,
   "id": "d46c4e82",
   "metadata": {},
   "outputs": [],
   "source": [
    "threshold = 0.01"
   ]
  },
  {
   "cell_type": "markdown",
   "id": "4233d480",
   "metadata": {},
   "source": [
    "#### Pre-group:"
   ]
  },
  {
   "cell_type": "code",
   "execution_count": 11,
   "id": "9667d0d9",
   "metadata": {},
   "outputs": [],
   "source": [
    "# сначала посмотрим на выбросы, которые кажутся прямо таки аномальными\n",
    "lower_bound = pre_group_df.sum_payment.quantile(q=threshold)\n",
    "upper_bound = pre_group_df.sum_payment.quantile(q=1-threshold)\n",
    "emission_df = pre_group_df[\n",
    "    (pre_group_df.sum_payment < lower_bound) | (pre_group_df.sum_payment > upper_bound)\n",
    "]"
   ]
  },
  {
   "cell_type": "code",
   "execution_count": 12,
   "id": "e3f74d83",
   "metadata": {},
   "outputs": [],
   "source": [
    "pre_group_df.loc[\n",
    "    pre_group_df.index.isin(emission_df.index), \"sum_payment\"\n",
    "] = pre_group_df.loc[pre_group_df.index.isin(emission_df.index), \"sum_payment\"].apply(\n",
    "    lambda x: min(x, upper_bound)\n",
    ")"
   ]
  },
  {
   "cell_type": "code",
   "execution_count": 13,
   "id": "79325811",
   "metadata": {},
   "outputs": [
    {
     "data": {
      "image/png": "[encoded data removed]",
      "text/plain": [
       "<Figure size 640x480 with 1 Axes>"
      ]
     },
     "metadata": {},
     "output_type": "display_data"
    }
   ],
   "source": [
    "_, bp = pre_group_df.sum_payment.plot.box(return_type='both')"
   ]
  },
  {
   "cell_type": "markdown",
   "id": "5d857119",
   "metadata": {},
   "source": [
    "### Рассчитаем длительность:"
   ]
  },
  {
   "cell_type": "code",
   "execution_count": 14,
   "id": "a7ff0a0b",
   "metadata": {},
   "outputs": [],
   "source": [
    "def metric(df, ending, exp=False):\n",
    "    filter_df = df.groupby('id_user').timestamp.min().reset_index(name='min_timestamp')\n",
    "    filter_df['max_timestamp'] = filter_df['min_timestamp'] + timedelta(seconds=7 * 24 * 60 * 60)\n",
    "    df2 = df.merge(filter_df, on='id_user')\n",
    "    df2 = df2[(df2['timestamp'] <= df2['max_timestamp']) & (df2['timestamp'] >= df2['min_timestamp'])]\n",
    "    df2 = df2[pd.to_datetime(df2['max_timestamp']).dt.normalize() <= ending]\n",
    "    \n",
    "    return df2.groupby('id_user').sum_payment.sum().tolist()"
   ]
  },
  {
   "cell_type": "code",
   "execution_count": 15,
   "id": "f0bc8cef",
   "metadata": {},
   "outputs": [],
   "source": [
    "def duration(k, delta_effect, sigma_1, sigma_2, alpha=ALPHA, beta=BETA):\n",
    "    z = sps.norm.ppf(1 - alpha/2) + sps.norm.ppf(1-beta)\n",
    "    n = (k+1) * z ** 2 * (sigma_1 ** 2 + sigma_2 **2 / k) / (delta_effect ** 2)\n",
    "    return n"
   ]
  },
  {
   "cell_type": "code",
   "execution_count": 16,
   "id": "d9bd0424",
   "metadata": {},
   "outputs": [],
   "source": [
    "sigma_1 = sigma_2 = np.std(metric(pre_group_df, ending=PRE_END))\n",
    "\n",
    "mean_base = np.mean(metric(pre_group_df, ending=PRE_END))\n",
    "effect = 0.1 * mean_base\n",
    "\n",
    "k = a_group_df['id_user'].nunique() / b_group_df['id_user'].nunique()"
   ]
  },
  {
   "cell_type": "code",
   "execution_count": 17,
   "id": "5751be88",
   "metadata": {},
   "outputs": [],
   "source": [
    "target_n = int(duration(k, effect, sigma_1, sigma_2, alpha=0.05, beta=0.2)/2)"
   ]
  },
  {
   "cell_type": "code",
   "execution_count": 18,
   "id": "35b1eb26",
   "metadata": {},
   "outputs": [
    {
     "name": "stdout",
     "output_type": "stream",
     "text": [
      "Достаточное количество юзеров с законченным окном в каждой группе: 3570\n"
     ]
    }
   ],
   "source": [
    "print(f\"Достаточное количество юзеров с законченным окном в каждой группе: {target_n}\")"
   ]
  },
  {
   "cell_type": "markdown",
   "id": "3dce644d",
   "metadata": {},
   "source": [
    "### Фильтранем даты:"
   ]
  },
  {
   "cell_type": "code",
   "execution_count": 19,
   "id": "9309e678",
   "metadata": {},
   "outputs": [],
   "source": [
    "#  def filtering_dataframe(df, target_n):\n",
    "#     filtering_df = df.groupby('date').size().reset_index(name='events') \n",
    "#     filtering_df['cumsum'] = filtering_df['events'].cumsum()\n",
    "#     date = filtering_df.loc[\n",
    "#     filtering_df[\"cumsum\"] >= target_n, \"date\"\n",
    "# ].min()\n",
    "#     return date\n",
    "\n",
    "def filtering_dataframe(df, target_n):\n",
    "    \"\"\"По дням смотрим кол-во юзеров, у которых закончилось окно в 7 дней\n",
    "       Стоит сразу дождаться недели эксперимента, чтобы закрылось окно у юзеров первого дня\"\"\"\n",
    "    #start_date = pd.Timestamp(EXP_START, unit='s')\n",
    "    date = EXP_START + timedelta(days=7) \n",
    "    while True:\n",
    "        if date == EXP_END:\n",
    "            return date\n",
    "        temp_df = df[df['date'] <= date]\n",
    "        filter_df = temp_df.groupby('id_user').timestamp.min().reset_index(name='min_timestamp')\n",
    "        filter_df['max_timestamp'] = filter_df['min_timestamp'] + timedelta(seconds=7 * 24 * 60 * 60)\n",
    "        filter_df = filter_df[pd.to_datetime(filter_df['max_timestamp']).dt.normalize() <= date]\n",
    "        if filter_df.id_user.nunique() >= target_n:\n",
    "            return date\n",
    "        date = date + timedelta(days=1)"
   ]
  },
  {
   "cell_type": "code",
   "execution_count": 20,
   "id": "65876f75",
   "metadata": {},
   "outputs": [],
   "source": [
    "a_date = filtering_dataframe(a_group_df, target_n)"
   ]
  },
  {
   "cell_type": "code",
   "execution_count": 21,
   "id": "42396b89",
   "metadata": {},
   "outputs": [],
   "source": [
    "a_date = filtering_dataframe(a_group_df, target_n)\n",
    "b_date = filtering_dataframe(b_group_df, target_n)\n",
    "\n",
    "if a_date == b_date:\n",
    "    EXP_END = a_date\n",
    "else:\n",
    "    EXP_END = max(a_date, b_date)"
   ]
  },
  {
   "cell_type": "code",
   "execution_count": 22,
   "id": "46330eed",
   "metadata": {},
   "outputs": [
    {
     "name": "stdout",
     "output_type": "stream",
     "text": [
      "Дата окончания: 2023-05-31 00:00:00\n"
     ]
    }
   ],
   "source": [
    "print(f\"Дата окончания: {EXP_END}\")"
   ]
  },
  {
   "cell_type": "code",
   "execution_count": 23,
   "id": "e98052cf",
   "metadata": {},
   "outputs": [],
   "source": [
    "a_group_new_df =  a_group_df[a_group_df['date'] <= EXP_END]\n",
    "b_group_new_df =  b_group_df[b_group_df['date'] <= EXP_END]"
   ]
  },
  {
   "cell_type": "code",
   "execution_count": 24,
   "id": "623f6241",
   "metadata": {},
   "outputs": [],
   "source": [
    "assert a_group_df.date.max() == EXP_END\n",
    "assert b_group_df.date.max() == EXP_END\n",
    "assert a_group_df['timestamp'].max().normalize() == EXP_END\n",
    "assert b_group_df['timestamp'].max().normalize() == EXP_END"
   ]
  },
  {
   "cell_type": "markdown",
   "id": "b5700542",
   "metadata": {},
   "source": [
    "### Посмотрим на выбросы в полученных группах, почистим их:"
   ]
  },
  {
   "cell_type": "markdown",
   "id": "b8ddc05d",
   "metadata": {},
   "source": [
    "#### A-group:"
   ]
  },
  {
   "cell_type": "code",
   "execution_count": 25,
   "id": "b4919a9f",
   "metadata": {},
   "outputs": [],
   "source": [
    "# сначала посмотрим на выбросы, которые кажутся прямо таки аномальными\n",
    "lower_bound = a_group_new_df.sum_payment.quantile(q=threshold)\n",
    "upper_bound = a_group_new_df.sum_payment.quantile(q=1-threshold)\n",
    "emission_df = a_group_new_df[\n",
    "    (a_group_new_df.sum_payment < lower_bound) | (a_group_new_df.sum_payment > upper_bound)\n",
    "]"
   ]
  },
  {
   "cell_type": "code",
   "execution_count": 26,
   "id": "49451aa8",
   "metadata": {},
   "outputs": [],
   "source": [
    "a_group_new_df.loc[\n",
    "    a_group_new_df.index.isin(emission_df.index), \"sum_payment\"\n",
    "] = a_group_new_df.loc[a_group_new_df.index.isin(emission_df.index), \"sum_payment\"].apply(\n",
    "    lambda x: min(x, upper_bound)\n",
    ")"
   ]
  },
  {
   "cell_type": "code",
   "execution_count": 27,
   "id": "b0224de6",
   "metadata": {},
   "outputs": [
    {
     "data": {
      "image/png": "[encoded data removed]",
      "text/plain": [
       "<Figure size 640x480 with 1 Axes>"
      ]
     },
     "metadata": {},
     "output_type": "display_data"
    }
   ],
   "source": [
    "_, bp = a_group_new_df.sum_payment.plot.box(return_type='both')"
   ]
  },
  {
   "cell_type": "markdown",
   "id": "a933f91f",
   "metadata": {},
   "source": [
    "#### B-group:"
   ]
  },
  {
   "cell_type": "code",
   "execution_count": 28,
   "id": "6fca5a0b",
   "metadata": {},
   "outputs": [],
   "source": [
    "# сначала посмотрим на выбросы, которые кажутся прямо таки аномальными\n",
    "lower_bound = b_group_new_df.sum_payment.quantile(q=threshold)\n",
    "upper_bound = b_group_new_df.sum_payment.quantile(q=1-threshold)\n",
    "emission_df = b_group_new_df[\n",
    "    (b_group_new_df.sum_payment < lower_bound) | (b_group_new_df.sum_payment > upper_bound)\n",
    "]"
   ]
  },
  {
   "cell_type": "code",
   "execution_count": 29,
   "id": "971abce1",
   "metadata": {},
   "outputs": [],
   "source": [
    "b_group_new_df.loc[\n",
    "    b_group_new_df.index.isin(emission_df.index), \"sum_payment\"\n",
    "] = b_group_new_df.loc[b_group_new_df.index.isin(emission_df.index), \"sum_payment\"].apply(\n",
    "    lambda x: min(x, upper_bound)\n",
    ")"
   ]
  },
  {
   "cell_type": "code",
   "execution_count": 30,
   "id": "214a798e",
   "metadata": {},
   "outputs": [
    {
     "data": {
      "image/png": "[encoded data removed]",
      "text/plain": [
       "<Figure size 640x480 with 1 Axes>"
      ]
     },
     "metadata": {},
     "output_type": "display_data"
    }
   ],
   "source": [
    "_, bp = b_group_new_df.sum_payment.plot.box(return_type='both')"
   ]
  },
  {
   "cell_type": "markdown",
   "id": "a388c201",
   "metadata": {},
   "source": [
    "### Анализ эксперимента:"
   ]
  },
  {
   "cell_type": "code",
   "execution_count": 31,
   "id": "e1a87a41",
   "metadata": {},
   "outputs": [],
   "source": [
    "def dynamic_metric(a_df, b_df):\n",
    "    final_df = pd.DataFrame(\n",
    "        [],\n",
    "        columns=[\"metric_a\", \"metric_b\", \"effect\", \"t\", \"p_value\"],\n",
    "        index=pd.date_range(EXP_START + timedelta(days=7), EXP_END),\n",
    "    )\n",
    "    for date in final_df.index:\n",
    "        tmp_a = metric(a_df[a_df[\"date\"] <= date], ending=date, exp=True)\n",
    "        tmp_b = metric(b_df[b_df[\"date\"] <= date], ending=date, exp=True)\n",
    "        effect = np.mean(tmp_b) - np.mean(tmp_a)\n",
    "        results = sps.ttest_ind(tmp_a, tmp_b, equal_var=abs(np.var(tmp_b) - np.var(tmp_a)) <= 0.1)\n",
    "        t, p_value = results.statistic, results.pvalue\n",
    "        final_df.loc[date] = np.mean(tmp_a), np.mean(tmp_b), effect, t, p_value\n",
    "    return final_df"
   ]
  },
  {
   "cell_type": "code",
   "execution_count": 32,
   "id": "acd5f42a",
   "metadata": {},
   "outputs": [],
   "source": [
    "results = dynamic_metric(a_group_new_df, b_group_new_df)"
   ]
  },
  {
   "cell_type": "markdown",
   "id": "7787bf5f",
   "metadata": {},
   "source": [
    "### Посмотрим на финальные результаты:"
   ]
  },
  {
   "cell_type": "code",
   "execution_count": 33,
   "id": "970fc8ea",
   "metadata": {},
   "outputs": [
    {
     "data": {
      "text/html": [
       "<div>\n",
       "<style scoped>\n",
       "    .dataframe tbody tr th:only-of-type {\n",
       "        vertical-align: middle;\n",
       "    }\n",
       "\n",
       "    .dataframe tbody tr th {\n",
       "        vertical-align: top;\n",
       "    }\n",
       "\n",
       "    .dataframe thead th {\n",
       "        text-align: right;\n",
       "    }\n",
       "</style>\n",
       "<table border=\"1\" class=\"dataframe\">\n",
       "  <thead>\n",
       "    <tr style=\"text-align: right;\">\n",
       "      <th></th>\n",
       "      <th>metric_a</th>\n",
       "      <th>metric_b</th>\n",
       "      <th>effect</th>\n",
       "      <th>t</th>\n",
       "      <th>p_value</th>\n",
       "    </tr>\n",
       "  </thead>\n",
       "  <tbody>\n",
       "    <tr>\n",
       "      <th>2023-05-31</th>\n",
       "      <td>11.281241</td>\n",
       "      <td>12.69074</td>\n",
       "      <td>1.409499</td>\n",
       "      <td>-3.368989</td>\n",
       "      <td>0.000759</td>\n",
       "    </tr>\n",
       "  </tbody>\n",
       "</table>\n",
       "</div>"
      ],
      "text/plain": [
       "             metric_a  metric_b    effect         t   p_value\n",
       "2023-05-31  11.281241  12.69074  1.409499 -3.368989  0.000759"
      ]
     },
     "execution_count": 33,
     "metadata": {},
     "output_type": "execute_result"
    }
   ],
   "source": [
    "results.tail(1)"
   ]
  },
  {
   "cell_type": "markdown",
   "id": "d87caf14",
   "metadata": {},
   "source": [
    "### Посмотрим данные в динамике:"
   ]
  },
  {
   "cell_type": "code",
   "execution_count": 34,
   "id": "42351a36",
   "metadata": {},
   "outputs": [
    {
     "data": {
      "image/png": "[encoded data removed]",
      "text/plain": [
       "<Figure size 1000x400 with 1 Axes>"
      ]
     },
     "metadata": {},
     "output_type": "display_data"
    }
   ],
   "source": [
    "results.plot(y='p_value', figsize=(10, 4), grid=True, yticks=np.arange(0, 1, 0.05))\n",
    "plt.plot(results.index, [ALPHA] * len(results.index), color='red')\n",
    "plt.show()"
   ]
  },
  {
   "cell_type": "markdown",
   "id": "1ce72d40",
   "metadata": {},
   "source": [
    "#### Итоговое решение:"
   ]
  },
  {
   "cell_type": "code",
   "execution_count": 40,
   "id": "0f23ae9f",
   "metadata": {},
   "outputs": [
    {
     "name": "stdout",
     "output_type": "stream",
     "text": [
      "Решение - выигрыш достается группе: B\n"
     ]
    }
   ],
   "source": [
    "print(f\"Решение - выигрыш достается группе: {'B' if results.tail(1)['p_value'].values[0] <= ALPHA else 'A'}\")"
   ]
  },
  {
   "cell_type": "code",
   "execution_count": null,
   "id": "364d6b94",
   "metadata": {},
   "outputs": [],
   "source": []
  },
  {
   "cell_type": "code",
   "execution_count": null,
   "id": "1fcf5ea2",
   "metadata": {},
   "outputs": [],
   "source": []
  },
  {
   "cell_type": "code",
   "execution_count": null,
   "id": "5ab69a92",
   "metadata": {},
   "outputs": [],
   "source": []
  },
  {
   "cell_type": "code",
   "execution_count": null,
   "id": "96179cd6",
   "metadata": {},
   "outputs": [],
   "source": []
  },
  {
   "cell_type": "code",
   "execution_count": null,
   "id": "7629db26",
   "metadata": {},
   "outputs": [],
   "source": []
  },
  {
   "cell_type": "code",
   "execution_count": null,
   "id": "94e4db46",
   "metadata": {},
   "outputs": [],
   "source": []
  },
  {
   "cell_type": "code",
   "execution_count": null,
   "id": "b171d456",
   "metadata": {},
   "outputs": [],
   "source": []
  },
  {
   "cell_type": "code",
   "execution_count": null,
   "id": "b4da2d32",
   "metadata": {},
   "outputs": [],
   "source": []
  },
  {
   "cell_type": "code",
   "execution_count": null,
   "id": "623eaf67",
   "metadata": {},
   "outputs": [],
   "source": []
  },
  {
   "cell_type": "code",
   "execution_count": null,
   "id": "77871105",
   "metadata": {},
   "outputs": [],
   "source": []
  }
 ],
 "metadata": {
  "kernelspec": {
   "display_name": "Python 3 (ipykernel)",
   "language": "python",
   "name": "python3"
  },
  "language_info": {
   "codemirror_mode": {
    "name": "ipython",
    "version": 3
   },
   "file_extension": ".py",
   "mimetype": "text/x-python",
   "name": "python",
   "nbconvert_exporter": "python",
   "pygments_lexer": "ipython3",
   "version": "3.10.9"
  }
 },
 "nbformat": 4,
 "nbformat_minor": 5
}

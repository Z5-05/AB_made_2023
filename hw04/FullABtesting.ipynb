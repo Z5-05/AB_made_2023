{
 "cells": [
  {
   "cell_type": "code",
   "execution_count": 1,
   "id": "1e68c527-4432-4629-9c03-0a4d1f9896da",
   "metadata": {},
   "outputs": [],
   "source": [
    "import numpy as np\n",
    "import pandas as pd\n",
    "import scipy.stats as sps\n",
    "import matplotlib.pyplot as plt\n",
    "import plotly.graph_objs as go"
   ]
  },
  {
   "cell_type": "markdown",
   "id": "a53636d9",
   "metadata": {},
   "source": [
    "### Constants:"
   ]
  },
  {
   "cell_type": "code",
   "execution_count": 2,
   "id": "3541e46d",
   "metadata": {},
   "outputs": [],
   "source": [
    "ALPHA = 0.05\n",
    "BETA = 0.2"
   ]
  },
  {
   "cell_type": "markdown",
   "id": "8b0b4bc6",
   "metadata": {},
   "source": [
    "### Read file:"
   ]
  },
  {
   "cell_type": "code",
   "execution_count": 3,
   "id": "7835e729",
   "metadata": {},
   "outputs": [],
   "source": [
    "df = pd.read_csv(\"ab_made_4.gzip\", compression='gzip')"
   ]
  },
  {
   "cell_type": "code",
   "execution_count": 4,
   "id": "90946d38",
   "metadata": {},
   "outputs": [],
   "source": [
    "pre_group_df = df[df['group'].isna()]\n",
    "a_group_df = df[df['group'] == 'A']\n",
    "b_group_df = df[df['group'] == 'B']"
   ]
  },
  {
   "cell_type": "code",
   "execution_count": 5,
   "id": "9611f91d",
   "metadata": {},
   "outputs": [
    {
     "name": "stdout",
     "output_type": "stream",
     "text": [
      "Даты pre-периода лежат в промежутке с 2023-04-01 по 2023-04-30\n",
      "Даты A-группы лежат в промежутке с 2023-05-01 по 2023-05-31\n",
      "Даты B-группы лежат в промежутке с 2023-05-01 по 2023-05-31\n"
     ]
    }
   ],
   "source": [
    "print(\n",
    "    f\"Даты pre-периода лежат в промежутке с {pre_group_df['date'].min()} по {pre_group_df['date'].max()}\"\n",
    ")\n",
    "print(\n",
    "    f\"Даты A-группы лежат в промежутке с {a_group_df['date'].min()} по {a_group_df['date'].max()}\"\n",
    ")\n",
    "print(\n",
    "    f\"Даты B-группы лежат в промежутке с {b_group_df['date'].min()} по {b_group_df['date'].max()}\"\n",
    ")"
   ]
  },
  {
   "cell_type": "code",
   "execution_count": 6,
   "id": "68a1bbc0",
   "metadata": {},
   "outputs": [
    {
     "name": "stdout",
     "output_type": "stream",
     "text": [
      "Кол-во пользователей для pre-периода равно 10000\n",
      "Кол-во пользователей для A-группы равно 6000\n",
      "Кол-во пользователей для B-группы равно 6000\n"
     ]
    }
   ],
   "source": [
    "print(f\"Кол-во пользователей для pre-периода равно {pre_group_df['id_user'].nunique()}\")\n",
    "print(f\"Кол-во пользователей для A-группы равно {a_group_df['id_user'].nunique()}\")\n",
    "print(f\"Кол-во пользователей для B-группы равно {b_group_df['id_user'].nunique()}\")"
   ]
  },
  {
   "cell_type": "code",
   "execution_count": 7,
   "id": "43711488",
   "metadata": {},
   "outputs": [
    {
     "name": "stdout",
     "output_type": "stream",
     "text": [
      "Кол-во событий для pre-периода равно 25759\n",
      "Кол-во событий для A-группы равно 15389\n",
      "Кол-во событий для B-группы равно 15257\n"
     ]
    }
   ],
   "source": [
    "print(f\"Кол-во событий для pre-периода равно {pre_group_df['id_user'].count()}\")\n",
    "print(f\"Кол-во событий для A-группы равно {a_group_df['id_user'].count()}\")\n",
    "print(f\"Кол-во событий для B-группы равно {b_group_df['id_user'].count()}\")"
   ]
  },
  {
   "cell_type": "markdown",
   "id": "f1cb0fdd",
   "metadata": {},
   "source": [
    "### Посмотрим на выбросы и попробуем заменить их на значение выбранного верхнего перцентиля, то есть, грубо говоря, ограничить значение:"
   ]
  },
  {
   "cell_type": "code",
   "execution_count": 8,
   "id": "d46c4e82",
   "metadata": {},
   "outputs": [],
   "source": [
    "threshold = 0.01"
   ]
  },
  {
   "cell_type": "markdown",
   "id": "4233d480",
   "metadata": {},
   "source": [
    "#### Pre-group:"
   ]
  },
  {
   "cell_type": "code",
   "execution_count": 9,
   "id": "9667d0d9",
   "metadata": {},
   "outputs": [],
   "source": [
    "# сначала посмотрим на выбросы, которые кажутся прямо таки аномальными\n",
    "lower_bound = pre_group_df.sum_payment.quantile(q=threshold)\n",
    "upper_bound = pre_group_df.sum_payment.quantile(q=1-threshold)\n",
    "emission_df = pre_group_df[\n",
    "    (pre_group_df.sum_payment < lower_bound) | (pre_group_df.sum_payment > upper_bound)\n",
    "]"
   ]
  },
  {
   "cell_type": "code",
   "execution_count": 10,
   "id": "e3f74d83",
   "metadata": {},
   "outputs": [],
   "source": [
    "pre_group_df.loc[\n",
    "    pre_group_df.index.isin(emission_df.index), \"sum_payment\"\n",
    "] = pre_group_df.loc[pre_group_df.index.isin(emission_df.index), \"sum_payment\"].apply(\n",
    "    lambda x: min(x, upper_bound)\n",
    ")"
   ]
  },
  {
   "cell_type": "code",
   "execution_count": 11,
   "id": "79325811",
   "metadata": {},
   "outputs": [
    {
     "data": {
      "image/png": "[encoded data removed]",
      "text/plain": [
       "<Figure size 640x480 with 1 Axes>"
      ]
     },
     "metadata": {},
     "output_type": "display_data"
    }
   ],
   "source": [
    "_, bp = pre_group_df.sum_payment.plot.box(return_type='both')"
   ]
  },
  {
   "cell_type": "markdown",
   "id": "7f52dcf3",
   "metadata": {},
   "source": [
    "#### A-group:"
   ]
  },
  {
   "cell_type": "code",
   "execution_count": 12,
   "id": "649dfb2e",
   "metadata": {},
   "outputs": [],
   "source": [
    "# сначала посмотрим на выбросы, которые кажутся прямо таки аномальными\n",
    "lower_bound = a_group_df.sum_payment.quantile(q=threshold)\n",
    "upper_bound = a_group_df.sum_payment.quantile(q=1-threshold)\n",
    "emission_df = a_group_df[\n",
    "    (a_group_df.sum_payment < lower_bound) | (a_group_df.sum_payment > upper_bound)\n",
    "]"
   ]
  },
  {
   "cell_type": "code",
   "execution_count": 13,
   "id": "19c375e8",
   "metadata": {},
   "outputs": [],
   "source": [
    "a_group_df.loc[\n",
    "    a_group_df.index.isin(emission_df.index), \"sum_payment\"\n",
    "] = a_group_df.loc[a_group_df.index.isin(emission_df.index), \"sum_payment\"].apply(\n",
    "    lambda x: min(x, upper_bound)\n",
    ")"
   ]
  },
  {
   "cell_type": "code",
   "execution_count": 14,
   "id": "4444d70c",
   "metadata": {},
   "outputs": [
    {
     "data": {
      "image/png": "[encoded data removed]",
      "text/plain": [
       "<Figure size 640x480 with 1 Axes>"
      ]
     },
     "metadata": {},
     "output_type": "display_data"
    }
   ],
   "source": [
    "_, bp = a_group_df.sum_payment.plot.box(return_type='both')"
   ]
  },
  {
   "cell_type": "markdown",
   "id": "cfe6b0f2",
   "metadata": {},
   "source": [
    "#### B-group:"
   ]
  },
  {
   "cell_type": "code",
   "execution_count": 15,
   "id": "f4684790",
   "metadata": {},
   "outputs": [],
   "source": [
    "# сначала посмотрим на выбросы, которые кажутся прямо таки аномальными\n",
    "lower_bound = b_group_df.sum_payment.quantile(q=threshold)\n",
    "upper_bound = b_group_df.sum_payment.quantile(q=1-threshold)\n",
    "emission_df = b_group_df[\n",
    "    (b_group_df.sum_payment < lower_bound) | (b_group_df.sum_payment > upper_bound)\n",
    "]"
   ]
  },
  {
   "cell_type": "code",
   "execution_count": 16,
   "id": "3add9c58",
   "metadata": {},
   "outputs": [],
   "source": [
    "b_group_df.loc[\n",
    "    b_group_df.index.isin(emission_df.index), \"sum_payment\"\n",
    "] = b_group_df.loc[b_group_df.index.isin(emission_df.index), \"sum_payment\"].apply(\n",
    "    lambda x: min(x, upper_bound)\n",
    ")"
   ]
  },
  {
   "cell_type": "code",
   "execution_count": 17,
   "id": "31db15e9",
   "metadata": {},
   "outputs": [
    {
     "data": {
      "image/png": "[encoded data removed]",
      "text/plain": [
       "<Figure size 640x480 with 1 Axes>"
      ]
     },
     "metadata": {},
     "output_type": "display_data"
    }
   ],
   "source": [
    "_, bp = b_group_df.sum_payment.plot.box(return_type='both')"
   ]
  },
  {
   "cell_type": "markdown",
   "id": "5d857119",
   "metadata": {},
   "source": [
    "### Рассчитаем длительность:"
   ]
  },
  {
   "cell_type": "code",
   "execution_count": 18,
   "id": "a7ff0a0b",
   "metadata": {},
   "outputs": [],
   "source": [
    "def metric(df):\n",
    "    return df.groupby('id_user').sum_payment.sum().tolist()"
   ]
  },
  {
   "cell_type": "code",
   "execution_count": 19,
   "id": "f0bc8cef",
   "metadata": {},
   "outputs": [],
   "source": [
    "def duration(k, delta_effect, sigma_1, sigma_2, alpha=ALPHA, beta=BETA):\n",
    "    z = sps.norm.ppf(1 - alpha/2) + sps.norm.ppf(1-beta)\n",
    "    n = (k+1) * z ** 2 * (sigma_1 ** 2 + sigma_2 **2 / k) / (delta_effect ** 2)\n",
    "    return n"
   ]
  },
  {
   "cell_type": "code",
   "execution_count": 20,
   "id": "d9bd0424",
   "metadata": {},
   "outputs": [],
   "source": [
    "sigma_1 = sigma_2 = np.std(metric(pre_group_df))\n",
    "\n",
    "mean_base = np.mean(metric(pre_group_df))\n",
    "effect = 0.1 * mean_base\n",
    "\n",
    "k = a_group_df['id_user'].nunique() / b_group_df['id_user'].nunique()"
   ]
  },
  {
   "cell_type": "code",
   "execution_count": 21,
   "id": "5751be88",
   "metadata": {},
   "outputs": [],
   "source": [
    "target_n = int(duration(k, effect, sigma_1, sigma_2, alpha=0.05, beta=0.2)/2)"
   ]
  },
  {
   "cell_type": "code",
   "execution_count": 22,
   "id": "35b1eb26",
   "metadata": {},
   "outputs": [
    {
     "name": "stdout",
     "output_type": "stream",
     "text": [
      "Достаточное количество человек в каждой группе: 3169\n"
     ]
    }
   ],
   "source": [
    "print(f\"Достаточное количество человек в каждой группе: {target_n}\")"
   ]
  },
  {
   "cell_type": "markdown",
   "id": "3dce644d",
   "metadata": {},
   "source": [
    "### Фильтранем даты:"
   ]
  },
  {
   "cell_type": "code",
   "execution_count": 23,
   "id": "8f5ddfff",
   "metadata": {},
   "outputs": [],
   "source": [
    "a_date_filtering_df = a_group_df.groupby('date').size().reset_index(name='events') \n",
    "a_date_filtering_df['cumsum'] = a_date_filtering_df['events'].cumsum()\n",
    "\n",
    "b_date_filtering_df = b_group_df.groupby('date').size().reset_index(name='events') \n",
    "b_date_filtering_df['cumsum'] = b_date_filtering_df['events'].cumsum()"
   ]
  },
  {
   "cell_type": "code",
   "execution_count": 24,
   "id": "42396b89",
   "metadata": {},
   "outputs": [],
   "source": [
    "a_date = a_date_filtering_df.loc[\n",
    "    a_date_filtering_df[\"cumsum\"] >= target_n, \"date\"\n",
    "].min()\n",
    "b_date = b_date_filtering_df.loc[\n",
    "    b_date_filtering_df[\"cumsum\"] >= target_n, \"date\"\n",
    "].min()\n",
    "\n",
    "if a_date == b_date:\n",
    "    date = a_date\n",
    "else:\n",
    "    date = max(a_date, b_date)"
   ]
  },
  {
   "cell_type": "code",
   "execution_count": 25,
   "id": "e98052cf",
   "metadata": {},
   "outputs": [],
   "source": [
    "a_group_new_df =  a_group_df[a_group_df['date'] <= date]\n",
    "b_group_new_df =  b_group_df[b_group_df['date'] <= date]"
   ]
  },
  {
   "cell_type": "markdown",
   "id": "a388c201",
   "metadata": {},
   "source": [
    "### Анализ эксперимента:"
   ]
  },
  {
   "cell_type": "code",
   "execution_count": 26,
   "id": "e1a87a41",
   "metadata": {},
   "outputs": [],
   "source": [
    "def dynamic_metric(a_df, b_df):\n",
    "    final_df = pd.DataFrame(\n",
    "        [],\n",
    "        columns=[\"metric_a\", \"metric_b\", \"effect\", \"t\", \"p_value\"],\n",
    "        index=a_df[\"date\"].drop_duplicates(),\n",
    "    )\n",
    "    for date in a_df[\"date\"].drop_duplicates():\n",
    "        tmp_a = metric(a_df[a_df[\"date\"] <= date])\n",
    "        tmp_b = metric(b_df[b_df[\"date\"] <= date])\n",
    "        effect = np.mean(tmp_b) - np.mean(tmp_a)\n",
    "        results = sps.ttest_ind(tmp_a, tmp_b)\n",
    "        t, p_value = results.statistic, results.pvalue\n",
    "        final_df.loc[date] = np.mean(tmp_a), np.mean(tmp_b), effect, t, p_value\n",
    "    return final_df"
   ]
  },
  {
   "cell_type": "code",
   "execution_count": 27,
   "id": "acd5f42a",
   "metadata": {},
   "outputs": [],
   "source": [
    "results = dynamic_metric(a_group_new_df, b_group_new_df)"
   ]
  },
  {
   "cell_type": "markdown",
   "id": "7787bf5f",
   "metadata": {},
   "source": [
    "### Посмотрим на финальные результаты:"
   ]
  },
  {
   "cell_type": "code",
   "execution_count": 28,
   "id": "970fc8ea",
   "metadata": {},
   "outputs": [
    {
     "data": {
      "text/html": [
       "<div>\n",
       "<style scoped>\n",
       "    .dataframe tbody tr th:only-of-type {\n",
       "        vertical-align: middle;\n",
       "    }\n",
       "\n",
       "    .dataframe tbody tr th {\n",
       "        vertical-align: top;\n",
       "    }\n",
       "\n",
       "    .dataframe thead th {\n",
       "        text-align: right;\n",
       "    }\n",
       "</style>\n",
       "<table border=\"1\" class=\"dataframe\">\n",
       "  <thead>\n",
       "    <tr style=\"text-align: right;\">\n",
       "      <th></th>\n",
       "      <th>metric_a</th>\n",
       "      <th>metric_b</th>\n",
       "      <th>effect</th>\n",
       "      <th>t</th>\n",
       "      <th>p_value</th>\n",
       "    </tr>\n",
       "    <tr>\n",
       "      <th>date</th>\n",
       "      <th></th>\n",
       "      <th></th>\n",
       "      <th></th>\n",
       "      <th></th>\n",
       "      <th></th>\n",
       "    </tr>\n",
       "  </thead>\n",
       "  <tbody>\n",
       "    <tr>\n",
       "      <th>2023-05-18</th>\n",
       "      <td>9.709397</td>\n",
       "      <td>10.77454</td>\n",
       "      <td>1.065143</td>\n",
       "      <td>-2.113778</td>\n",
       "      <td>0.034597</td>\n",
       "    </tr>\n",
       "  </tbody>\n",
       "</table>\n",
       "</div>"
      ],
      "text/plain": [
       "            metric_a  metric_b    effect         t   p_value\n",
       "date                                                        \n",
       "2023-05-18  9.709397  10.77454  1.065143 -2.113778  0.034597"
      ]
     },
     "execution_count": 28,
     "metadata": {},
     "output_type": "execute_result"
    }
   ],
   "source": [
    "results.tail(1)"
   ]
  },
  {
   "cell_type": "markdown",
   "id": "d87caf14",
   "metadata": {},
   "source": [
    "### Посмотрим данные в динамике:"
   ]
  },
  {
   "cell_type": "code",
   "execution_count": 29,
   "id": "42351a36",
   "metadata": {},
   "outputs": [
    {
     "data": {
      "image/png": "[encoded data removed]",
      "text/plain": [
       "<Figure size 1000x400 with 1 Axes>"
      ]
     },
     "metadata": {},
     "output_type": "display_data"
    }
   ],
   "source": [
    "results.plot(y='p_value', figsize=(10, 4), grid=True, yticks=np.arange(0, 1, 0.05))\n",
    "plt.plot([ALPHA] * len(results.index), color='red')\n",
    "plt.show()"
   ]
  },
  {
   "cell_type": "code",
   "execution_count": null,
   "id": "bfa2cfcb",
   "metadata": {},
   "outputs": [],
   "source": []
  },
  {
   "cell_type": "code",
   "execution_count": null,
   "id": "7786ba41",
   "metadata": {},
   "outputs": [],
   "source": []
  },
  {
   "cell_type": "code",
   "execution_count": null,
   "id": "0f23ae9f",
   "metadata": {},
   "outputs": [],
   "source": []
  },
  {
   "cell_type": "code",
   "execution_count": null,
   "id": "ddf142b5",
   "metadata": {},
   "outputs": [],
   "source": []
  },
  {
   "cell_type": "code",
   "execution_count": null,
   "id": "364d6b94",
   "metadata": {},
   "outputs": [],
   "source": []
  },
  {
   "cell_type": "code",
   "execution_count": null,
   "id": "1fcf5ea2",
   "metadata": {},
   "outputs": [],
   "source": []
  },
  {
   "cell_type": "code",
   "execution_count": null,
   "id": "5ab69a92",
   "metadata": {},
   "outputs": [],
   "source": []
  },
  {
   "cell_type": "code",
   "execution_count": null,
   "id": "96179cd6",
   "metadata": {},
   "outputs": [],
   "source": []
  },
  {
   "cell_type": "code",
   "execution_count": null,
   "id": "7629db26",
   "metadata": {},
   "outputs": [],
   "source": []
  },
  {
   "cell_type": "code",
   "execution_count": null,
   "id": "94e4db46",
   "metadata": {},
   "outputs": [],
   "source": []
  },
  {
   "cell_type": "code",
   "execution_count": null,
   "id": "b171d456",
   "metadata": {},
   "outputs": [],
   "source": []
  },
  {
   "cell_type": "code",
   "execution_count": null,
   "id": "b4da2d32",
   "metadata": {},
   "outputs": [],
   "source": []
  },
  {
   "cell_type": "code",
   "execution_count": null,
   "id": "623eaf67",
   "metadata": {},
   "outputs": [],
   "source": []
  },
  {
   "cell_type": "code",
   "execution_count": null,
   "id": "77871105",
   "metadata": {},
   "outputs": [],
   "source": []
  }
 ],
 "metadata": {
  "kernelspec": {
   "display_name": "Python 3 (ipykernel)",
   "language": "python",
   "name": "python3"
  },
  "language_info": {
   "codemirror_mode": {
    "name": "ipython",
    "version": 3
   },
   "file_extension": ".py",
   "mimetype": "text/x-python",
   "name": "python",
   "nbconvert_exporter": "python",
   "pygments_lexer": "ipython3",
   "version": "3.10.9"
  }
 },
 "nbformat": 4,
 "nbformat_minor": 5
}
